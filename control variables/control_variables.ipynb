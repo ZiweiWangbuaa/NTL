{
 "cells": [
  {
   "cell_type": "code",
   "execution_count": 1,
   "metadata": {},
   "outputs": [],
   "source": [
    "import numpy as np\n",
    "import pandas as pd "
   ]
  },
  {
   "cell_type": "code",
   "execution_count": 2,
   "metadata": {},
   "outputs": [],
   "source": [
    "stock = pd.read_excel(\"pro_stock_price_wind.xlsx\")\n",
    "stock['Date'] = pd.to_datetime(stock['Date'])\n",
    "stock = stock.set_index('Date').unstack().reset_index()\n",
    "stock.columns=['province','Date','stock']\n",
    "stock = stock.sort_values(by=['province','Date'])\n",
    "stock['Month'] = pd.to_datetime(stock['Date'].dt.year.astype(str)+\"-\"+stock['Date'].dt.month.astype(str)+\"-01\")\n",
    "stock['stock']=np.log(stock['stock'])\n",
    "stock['stock_pro']=stock[['stock','province']].groupby('province').diff()*100\n",
    "stock = stock.groupby(['province','Month'],as_index=False).sum()\n",
    "del stock['stock']\n",
    "stock.to_excel(\"pro_stock_return(sum)_wind.xlsx\",index=None)"
   ]
  },
  {
   "cell_type": "code",
   "execution_count": 3,
   "metadata": {},
   "outputs": [
    {
     "name": "stderr",
     "output_type": "stream",
     "text": [
      "d:\\ProgramData\\Anaconda3\\lib\\site-packages\\pandas\\core\\arraylike.py:358: RuntimeWarning: invalid value encountered in log\n",
      "  result = getattr(ufunc, method)(*inputs, **kwargs)\n"
     ]
    }
   ],
   "source": [
    "wti = pd.read_excel(\"world_wti_price_wind.xlsx\")\n",
    "wti['Date'] = pd.to_datetime(wti['Date'])\n",
    "wti.columns=['Date','wti']\n",
    "wti = wti.sort_values(by=['Date'])\n",
    "wti['Month'] = pd.to_datetime(wti['Date'].dt.year.astype(str)+\"-\"+wti['Date'].dt.month.astype(str)+\"-01\")\n",
    "wti['wti'] = np.log(wti['wti'])\n",
    "wti['wti'] = wti[['wti']].diff()*100\n",
    "wti = wti.groupby(['Month'],as_index=False).sum()\n",
    "wti.to_excel(\"world_wti_return(sum)_wind.xlsx\",index=None)"
   ]
  },
  {
   "cell_type": "code",
   "execution_count": 4,
   "metadata": {},
   "outputs": [],
   "source": [
    "exc = pd.read_excel(\"china_exchange_price_wind.xlsx\")\n",
    "exc['Date'] = pd.to_datetime(exc['Date'])\n",
    "exc = exc.sort_values(by=['Date'])\n",
    "exc.columns = ['Date','Exchange']\n",
    "exc['Exchange_ret'] = (np.log(exc['Exchange'])-np.log(exc['Exchange'].shift(1)))*100\n",
    "exc['Month'] = pd.to_datetime(exc['Date'].dt.year.astype(str)+\"-\"+exc['Date'].dt.month.astype(str)+\"-01\")\n",
    "exc = exc.groupby('Month').sum()\n",
    "exc.to_excel(\"china_exchange_return(sum)_wind.xlsx\",index=None)"
   ]
  },
  {
   "cell_type": "code",
   "execution_count": 5,
   "metadata": {},
   "outputs": [],
   "source": [
    "usb = pd.read_excel(\"US_treasury_return_wind.xlsx\")\n",
    "usb['Date'] = pd.to_datetime(usb['Date'])\n",
    "usb = usb.sort_values(by=['Date'])\n",
    "usb.columns = ['Date','USY1']\n",
    "usb = usb.fillna(method='pad')\n",
    "usb['Month'] = pd.to_datetime(usb ['Date'].dt.year.astype(str)+\"-\"+usb['Date'].dt.month.astype(str)+\"-01\")\n",
    "usb = usb[['Month','USY1']].groupby('Month').mean()\n",
    "usb['USY1diff'] = usb['USY1']-usb['USY1'].shift(1)\n",
    "del usb['USY1']\n",
    "usb.to_excel(\"US_treasury_diff(mean)_wind.xlsx\")"
   ]
  },
  {
   "cell_type": "code",
   "execution_count": 6,
   "metadata": {},
   "outputs": [],
   "source": [
    "df = pd.DataFrame({\n",
    "    'Month':pd.date_range(start=\"20170101\", end=\"20221231\", freq=\"M\")\n",
    "})\n",
    "df['Month'] = pd.to_datetime(df['Month'].dt.year.astype(str)+\"-\"+df['Month'].dt.month.astype(str)+\"-01\")\n",
    "res = pd.read_excel(\"china_reserve_wind.xlsx\")\n",
    "res['Date'] = pd.to_datetime(res['Date'])\n",
    "res['Month'] = pd.to_datetime(res['Date'].dt.year.astype(str)+\"-\"+res['Date'].dt.month.astype(str)+\"-01\")\n",
    "res['Reserve_diff']=res['ZBJL'].diff()\n",
    "df = pd.DataFrame({\n",
    "    'Month':pd.date_range(start=\"20170101\", end=\"20221231\", freq=\"M\")\n",
    "})\n",
    "df['Month'] = pd.to_datetime(df['Month'].dt.year.astype(str)+\"-\"+df['Month'].dt.month.astype(str)+\"-01\")\n",
    "res = pd.merge(df[['Month']],res,how='left')\n",
    "res['Reserve_diff'] = res['Reserve_diff'].fillna(0)\n",
    "res.to_excel(\"china_reserve_diff_wind.xlsx\",index=None)"
   ]
  }
 ],
 "metadata": {
  "kernelspec": {
   "display_name": "base",
   "language": "python",
   "name": "python3"
  },
  "language_info": {
   "codemirror_mode": {
    "name": "ipython",
    "version": 3
   },
   "file_extension": ".py",
   "mimetype": "text/x-python",
   "name": "python",
   "nbconvert_exporter": "python",
   "pygments_lexer": "ipython3",
   "version": "3.8.8"
  },
  "orig_nbformat": 4
 },
 "nbformat": 4,
 "nbformat_minor": 2
}
